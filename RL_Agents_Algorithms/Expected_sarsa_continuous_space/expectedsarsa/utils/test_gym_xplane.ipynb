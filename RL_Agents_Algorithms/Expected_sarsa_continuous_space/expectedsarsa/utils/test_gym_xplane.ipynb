{
 "cells": [
  {
   "cell_type": "markdown",
   "metadata": {},
   "source": [
    "# Data Challenge\n"
   ]
  },
  {
   "cell_type": "code",
   "execution_count": 243,
   "metadata": {},
   "outputs": [],
   "source": [
    "# @ Lukman "
   ]
  },
  {
   "cell_type": "code",
   "execution_count": 21,
   "metadata": {},
   "outputs": [
    {
     "data": {
      "text/html": [
       "<script>requirejs.config({paths: { 'plotly': ['https://cdn.plot.ly/plotly-latest.min']},});if(!window.Plotly) {{require(['plotly'],function(plotly) {window.Plotly=plotly;});}}</script>"
      ],
      "text/vnd.plotly.v1+html": [
       "<script>requirejs.config({paths: { 'plotly': ['https://cdn.plot.ly/plotly-latest.min']},});if(!window.Plotly) {{require(['plotly'],function(plotly) {window.Plotly=plotly;});}}</script>"
      ]
     },
     "metadata": {},
     "output_type": "display_data"
    },
    {
     "ename": "ModuleNotFoundError",
     "evalue": "No module named 'map_maker'",
     "output_type": "error",
     "traceback": [
      "\u001b[0;31m---------------------------------------------------------------------------\u001b[0m",
      "\u001b[0;31mModuleNotFoundError\u001b[0m                       Traceback (most recent call last)",
      "\u001b[0;32m<ipython-input-21-03ce2338d0b4>\u001b[0m in \u001b[0;36m<module>\u001b[0;34m()\u001b[0m\n\u001b[1;32m     37\u001b[0m \u001b[0;34m\u001b[0m\u001b[0m\n\u001b[1;32m     38\u001b[0m \u001b[0;31m### To make Bokeh Plot\u001b[0m\u001b[0;34m\u001b[0m\u001b[0;34m\u001b[0m\u001b[0;34m\u001b[0m\u001b[0m\n\u001b[0;32m---> 39\u001b[0;31m \u001b[0;32mimport\u001b[0m \u001b[0mmap_maker\u001b[0m\u001b[0;34m\u001b[0m\u001b[0;34m\u001b[0m\u001b[0m\n\u001b[0m\u001b[1;32m     40\u001b[0m \u001b[0;34m\u001b[0m\u001b[0m\n\u001b[1;32m     41\u001b[0m \u001b[0;31m# For dictionary\u001b[0m\u001b[0;34m\u001b[0m\u001b[0;34m\u001b[0m\u001b[0;34m\u001b[0m\u001b[0m\n",
      "\u001b[0;31mModuleNotFoundError\u001b[0m: No module named 'map_maker'"
     ]
    }
   ],
   "source": [
    "# for data frame analysis\n",
    "import pandas as pd \n",
    "\n",
    "# for mathematical operations\n",
    "import numpy as np \n",
    "\n",
    "# imports below are for plotly \n",
    "import ipywidgets as widgets\n",
    "import plotly as py\n",
    "import plotly.graph_objs as go\n",
    "py.offline.init_notebook_mode(connected=True)   # for offline mode use\n",
    "import plotly.figure_factory as ff\n",
    "import plotly.offline as offline\n",
    "\n",
    "\n",
    "# matplotlib library for plotting\n",
    "import matplotlib.pyplot as plt\n",
    "%matplotlib inline\n",
    "\n",
    "# For Normalizing data\n",
    "from sklearn.preprocessing import StandardScaler\n",
    "\n",
    "# For statistical test\n",
    "import scipy.stats as stats\n",
    "\n",
    "# Split data set into training and test set\n",
    "from sklearn.model_selection import train_test_split as tts\n",
    "\n",
    "# SVN module\n",
    "from sklearn import svm\n",
    "\n",
    "# Kernel Functions used \n",
    "from sklearn.metrics.pairwise import rbf_kernel,laplacian_kernel\n",
    "\n",
    "# module for chi square test\n",
    "from scipy.stats import chisquare\n",
    "\n",
    "### To make Bokeh Plot \n",
    "import map_maker\n",
    "\n",
    "# For dictionary \n",
    "from collections import defaultdict\n"
   ]
  },
  {
   "cell_type": "markdown",
   "metadata": {},
   "source": [
    "# Data Preprocessing "
   ]
  },
  {
   "cell_type": "code",
   "execution_count": 5,
   "metadata": {},
   "outputs": [],
   "source": [
    "# Import the dataset \n",
    "# skip 2 rows since \n",
    "OutputData = pd.read_excel('population.xlsx',skiprows=range(0, 2)) "
   ]
  },
  {
   "cell_type": "code",
   "execution_count": 6,
   "metadata": {},
   "outputs": [],
   "source": [
    "OutputData = pd.read_csv('sales_technical_test.csv') "
   ]
  },
  {
   "cell_type": "code",
   "execution_count": 7,
   "metadata": {},
   "outputs": [
    {
     "data": {
      "text/plain": [
       "timestamp    object\n",
       "tot           int64\n",
       "storeId       int64\n",
       "dtype: object"
      ]
     },
     "execution_count": 7,
     "metadata": {},
     "output_type": "execute_result"
    }
   ],
   "source": [
    "# data types are objects\n",
    "OutputData.dtypes"
   ]
  },
  {
   "cell_type": "code",
   "execution_count": 8,
   "metadata": {},
   "outputs": [
    {
     "data": {
      "text/plain": [
       "timestamp    datetime64[ns]\n",
       "tot                   int64\n",
       "storeId               int64\n",
       "dtype: object"
      ]
     },
     "execution_count": 8,
     "metadata": {},
     "output_type": "execute_result"
    }
   ],
   "source": [
    "# chnage timestamo to date time data type\n",
    "OutputData['timestamp'] =  pd.to_datetime(OutputData['timestamp'])\n",
    "OutputData.dtypes"
   ]
  },
  {
   "cell_type": "code",
   "execution_count": 9,
   "metadata": {},
   "outputs": [
    {
     "data": {
      "text/plain": [
       "timestamp    datetime64[ns]\n",
       "tot                   int64\n",
       "storeId               int64\n",
       "dtype: object"
      ]
     },
     "execution_count": 9,
     "metadata": {},
     "output_type": "execute_result"
    }
   ],
   "source": [
    "OutputData.dtypes # check the data type has changed"
   ]
  },
  {
   "cell_type": "code",
   "execution_count": 10,
   "metadata": {},
   "outputs": [],
   "source": [
    "OutputData.set_index('timestamp',inplace=True);\n"
   ]
  },
  {
   "cell_type": "code",
   "execution_count": 11,
   "metadata": {},
   "outputs": [],
   "source": [
    "storeOne = OutputData.loc[OutputData['storeId'] == 1] # store one\n",
    "storeTwo = OutputData.loc[OutputData['storeId'] == 2] # store two"
   ]
  },
  {
   "cell_type": "code",
   "execution_count": 12,
   "metadata": {},
   "outputs": [],
   "source": [
    "# Usually one would also need to read about the data collection process . This is so as to understand what each\n",
    "# column and headers stands for. And in particular what assumptions have been made by the collectors\n",
    "# of the data."
   ]
  },
  {
   "cell_type": "markdown",
   "metadata": {},
   "source": [
    "### Modelling with LSTM"
   ]
  },
  {
   "cell_type": "code",
   "execution_count": 13,
   "metadata": {},
   "outputs": [],
   "source": [
    "storeTwo_arima = storeTwo.drop('storeId', 1)\n",
    "storeTwo_arima['tot'] = storeTwo_arima['tot'].astype(float) # for compuational compatibitlity"
   ]
  },
  {
   "cell_type": "code",
   "execution_count": 14,
   "metadata": {},
   "outputs": [],
   "source": [
    "storeOne_arima = storeOne.drop('storeId', 1)\n",
    "storeOne_arima['tot'] = storeOne_arima['tot'].astype(float)\n"
   ]
  },
  {
   "cell_type": "code",
   "execution_count": 15,
   "metadata": {},
   "outputs": [],
   "source": [
    "storeOneList = storeOne_arima.tot.tolist() # convert store one to list"
   ]
  },
  {
   "cell_type": "code",
   "execution_count": null,
   "metadata": {},
   "outputs": [],
   "source": []
  },
  {
   "cell_type": "code",
   "execution_count": 4,
   "metadata": {},
   "outputs": [],
   "source": [
    "\n",
    "# Taken from https://github.com/openai/baselines/blob/master/baselines/ddpg/noise.py, which is\n",
    "# based on http://math.stackexchange.com/questions/1287634/implementing-ornstein-uhlenbeck-in-matlab\n",
    "import numpy as np\n",
    "class OrnsteinUhlenbeckActionNoise:\n",
    "    def __init__(self, mu, sigma=0.3, theta=.15, dt=1e-2, x0=None):\n",
    "        self.theta = theta\n",
    "        self.mu = mu\n",
    "        self.sigma = sigma\n",
    "        self.dt = dt\n",
    "        self.x0 = x0\n",
    "        self.reset()\n",
    "\n",
    "    def __call__(self):\n",
    "        x = self.x_prev + self.theta * (self.mu - self.x_prev) * self.dt + \\\n",
    "                self.sigma * np.sqrt(self.dt) * np.random.normal(size=self.mu.shape)\n",
    "        self.x_prev = x\n",
    "        return x\n",
    "\n",
    "    def reset(self):\n",
    "        self.x_prev = self.x0 if self.x0 is not None else np.zeros_like(self.mu)\n",
    "\n",
    "    def __repr__(self):\n",
    "        return 'OrnsteinUhlenbeckActionNoise(mu={}, sigma={})'.format(self.mu, self.sigma)\n"
   ]
  },
  {
   "cell_type": "code",
   "execution_count": 5,
   "metadata": {},
   "outputs": [],
   "source": [
    "action = OrnsteinUhlenbeckActionNoise(mu=np.zeros(4))"
   ]
  },
  {
   "cell_type": "code",
   "execution_count": 6,
   "metadata": {},
   "outputs": [
    {
     "ename": "NameError",
     "evalue": "name 'sample_data' is not defined",
     "output_type": "error",
     "traceback": [
      "\u001b[0;31m---------------------------------------------------------------------------\u001b[0m",
      "\u001b[0;31mNameError\u001b[0m                                 Traceback (most recent call last)",
      "\u001b[0;32m<ipython-input-6-64a79dc1b22b>\u001b[0m in \u001b[0;36m<module>\u001b[0;34m()\u001b[0m\n\u001b[0;32m----> 1\u001b[0;31m \u001b[0msample_data\u001b[0m\u001b[0;34m[\u001b[0m\u001b[0;36m0\u001b[0m\u001b[0;34m]\u001b[0m \u001b[0;34m+\u001b[0m \u001b[0maction\u001b[0m\u001b[0;34m(\u001b[0m\u001b[0;34m)\u001b[0m\u001b[0;34m\u001b[0m\u001b[0;34m\u001b[0m\u001b[0m\n\u001b[0m",
      "\u001b[0;31mNameError\u001b[0m: name 'sample_data' is not defined"
     ]
    }
   ],
   "source": [
    "sample_data[0] + action()"
   ]
  },
  {
   "cell_type": "code",
   "execution_count": 7,
   "metadata": {},
   "outputs": [
    {
     "ename": "NameError",
     "evalue": "name 'sample_data' is not defined",
     "output_type": "error",
     "traceback": [
      "\u001b[0;31m---------------------------------------------------------------------------\u001b[0m",
      "\u001b[0;31mNameError\u001b[0m                                 Traceback (most recent call last)",
      "\u001b[0;32m<ipython-input-7-80be59b99df3>\u001b[0m in \u001b[0;36m<module>\u001b[0;34m()\u001b[0m\n\u001b[0;32m----> 1\u001b[0;31m \u001b[0msample_data\u001b[0m\u001b[0;34m[\u001b[0m\u001b[0;36m0\u001b[0m\u001b[0;34m]\u001b[0m\u001b[0;34m\u001b[0m\u001b[0;34m\u001b[0m\u001b[0m\n\u001b[0m",
      "\u001b[0;31mNameError\u001b[0m: name 'sample_data' is not defined"
     ]
    }
   ],
   "source": [
    "sample_data[0]"
   ]
  },
  {
   "cell_type": "code",
   "execution_count": 8,
   "metadata": {},
   "outputs": [
    {
     "data": {
      "text/plain": [
       "array([ 0.01940272, -0.00717119, -0.03092837,  0.00226771])"
      ]
     },
     "execution_count": 8,
     "metadata": {},
     "output_type": "execute_result"
    }
   ],
   "source": [
    "## Sample the data from gaussian distribution\n",
    "action()"
   ]
  },
  {
   "cell_type": "code",
   "execution_count": 9,
   "metadata": {},
   "outputs": [],
   "source": [
    "## sample_data[0].reshape(4,1).ndim"
   ]
  },
  {
   "cell_type": "code",
   "execution_count": null,
   "metadata": {},
   "outputs": [],
   "source": [
    "\n"
   ]
  },
  {
   "cell_type": "code",
   "execution_count": 10,
   "metadata": {},
   "outputs": [],
   "source": [
    "\n",
    "counter=0\n",
    "def dataGetter(datalist):\n",
    "    \"\"\"\n",
    "    Returns a single sales value.\n",
    "    Input: Sales Data list named \n",
    "    Output: single Sales value\n",
    "    \"\"\"\n",
    "    global counter;\n",
    "    assert type(datalist) == list;\n",
    "    \n",
    "    \n",
    "    value = datalist[counter]\n",
    "    #print(counter)\n",
    "\n",
    "\n",
    "    counter = counter +1\n",
    "             \n",
    "    return np.array([value])"
   ]
  },
  {
   "cell_type": "code",
   "execution_count": 11,
   "metadata": {},
   "outputs": [
    {
     "ename": "NameError",
     "evalue": "name 'storeOneList' is not defined",
     "output_type": "error",
     "traceback": [
      "\u001b[0;31m---------------------------------------------------------------------------\u001b[0m",
      "\u001b[0;31mNameError\u001b[0m                                 Traceback (most recent call last)",
      "\u001b[0;32m<ipython-input-11-885dbb035835>\u001b[0m in \u001b[0;36m<module>\u001b[0;34m()\u001b[0m\n\u001b[1;32m      4\u001b[0m \u001b[0mwindow_move_step\u001b[0m \u001b[0;34m=\u001b[0m \u001b[0;36m1\u001b[0m\u001b[0;34m\u001b[0m\u001b[0;34m\u001b[0m\u001b[0m\n\u001b[1;32m      5\u001b[0m \u001b[0;32mfor\u001b[0m \u001b[0mi\u001b[0m \u001b[0;32min\u001b[0m \u001b[0mrange\u001b[0m\u001b[0;34m(\u001b[0m\u001b[0mlag\u001b[0m \u001b[0;34m-\u001b[0m \u001b[0mwindow_move_step\u001b[0m\u001b[0;34m)\u001b[0m\u001b[0;34m:\u001b[0m\u001b[0;34m\u001b[0m\u001b[0;34m\u001b[0m\u001b[0m\n\u001b[0;32m----> 6\u001b[0;31m     \u001b[0msliding_window\u001b[0m\u001b[0;34m.\u001b[0m\u001b[0mappend\u001b[0m\u001b[0;34m(\u001b[0m\u001b[0mdataGetter\u001b[0m\u001b[0;34m(\u001b[0m\u001b[0mstoreOneList\u001b[0m\u001b[0;34m)\u001b[0m\u001b[0;34m)\u001b[0m\u001b[0;34m\u001b[0m\u001b[0;34m\u001b[0m\u001b[0m\n\u001b[0m",
      "\u001b[0;31mNameError\u001b[0m: name 'storeOneList' is not defined"
     ]
    }
   ],
   "source": [
    "# Define window size or learning\n",
    "sliding_window = []\n",
    "lag=8 # 24 hours time step from 0 to 24 plus the window_step_move (25) which is to be predicted\n",
    "window_move_step = 1\n",
    "for i in range(lag - window_move_step):\n",
    "    sliding_window.append(dataGetter(storeOneList))"
   ]
  },
  {
   "cell_type": "code",
   "execution_count": null,
   "metadata": {},
   "outputs": [],
   "source": []
  },
  {
   "cell_type": "code",
   "execution_count": 12,
   "metadata": {},
   "outputs": [],
   "source": [
    "def get_pair(Target):\n",
    "    \"\"\"\n",
    "    Returns an (current, target) \n",
    "    Target is lag steps 24 ahead of current\n",
    "    \"\"\"\n",
    " \n",
    "    global sliding_window\n",
    "    sliding_window.append(dataGetter(Target))\n",
    "    #print(len(sliding_window))\n",
    "    \n",
    "    input_value = sliding_window[0:7]\n",
    "    \n",
    "    input_value=np.array(input_value)\n",
    "    #print(input_value.shape)\n",
    "    input_value=np.reshape(input_value,(1,7))\n",
    "    ##print(input_value)\n",
    "    output_value = sliding_window[-1]\n",
    "    ##print(output_value)\n",
    "    sliding_window = sliding_window[1:]\n",
    "    #print(len(sliding_window))\n",
    "    return input_value, output_value.reshape(1,)"
   ]
  },
  {
   "cell_type": "code",
   "execution_count": null,
   "metadata": {},
   "outputs": [],
   "source": []
  },
  {
   "cell_type": "code",
   "execution_count": null,
   "metadata": {},
   "outputs": [],
   "source": []
  },
  {
   "cell_type": "code",
   "execution_count": null,
   "metadata": {},
   "outputs": [],
   "source": []
  },
  {
   "cell_type": "code",
   "execution_count": 13,
   "metadata": {},
   "outputs": [
    {
     "data": {
      "text/html": [
       "<script>requirejs.config({paths: { 'plotly': ['https://cdn.plot.ly/plotly-latest.min']},});if(!window.Plotly) {{require(['plotly'],function(plotly) {window.Plotly=plotly;});}}</script>"
      ],
      "text/vnd.plotly.v1+html": [
       "<script>requirejs.config({paths: { 'plotly': ['https://cdn.plot.ly/plotly-latest.min']},});if(!window.Plotly) {{require(['plotly'],function(plotly) {window.Plotly=plotly;});}}</script>"
      ]
     },
     "metadata": {},
     "output_type": "display_data"
    }
   ],
   "source": [
    "# for data frame analysis\n",
    "import pandas as pd \n",
    "\n",
    "# for mathematical operations\n",
    "import numpy as np \n",
    "\n",
    "# imports below are for plotly \n",
    "import ipywidgets as widgets\n",
    "import plotly as py\n",
    "import plotly.graph_objs as go\n",
    "py.offline.init_notebook_mode(connected=True)   # for offline mode use\n",
    "import plotly.figure_factory as ff\n",
    "import plotly.offline as offline\n",
    "\n",
    "\n",
    "# matplotlib library for plotting\n",
    "import matplotlib.pyplot as plt\n",
    "%matplotlib inline\n",
    "\n",
    "# For Normalizing data\n",
    "from sklearn.preprocessing import StandardScaler\n",
    "\n",
    "# For statistical test\n",
    "import scipy.stats as stats\n"
   ]
  },
  {
   "cell_type": "code",
   "execution_count": 14,
   "metadata": {},
   "outputs": [
    {
     "name": "stderr",
     "output_type": "stream",
     "text": [
      "/home/cat/anaconda3/envs/cat/lib/python3.6/site-packages/h5py/__init__.py:36: FutureWarning:\n",
      "\n",
      "Conversion of the second argument of issubdtype from `float` to `np.floating` is deprecated. In future, it will be treated as `np.float64 == np.dtype(float).type`.\n",
      "\n"
     ]
    }
   ],
   "source": [
    "\n",
    "#Imports\n",
    "import tensorflow as tf\n",
    "#from tensorflow.nn.rnn import *\n",
    "from tensorflow.python.ops  import *"
   ]
  },
  {
   "cell_type": "code",
   "execution_count": 15,
   "metadata": {},
   "outputs": [],
   "source": [
    "#Input Params\n",
    "with tf.name_scope(\"input_target_placeholders\"):    \n",
    "    input_dim = 1\n",
    "    ##The Input Layer as a Placeholder\n",
    "    #Since we will provide data sequentially, the 'batch size'\n",
    "    #is 1.\n",
    "    action_space_dim = 11\n",
    "    input_layer = tf.placeholder(tf.float32, [1,action_space_dim],name=\"input_data\")\n",
    "    correct_output = tf.placeholder(tf.float32, [1,4],name=\"target_data\")"
   ]
  },
  {
   "cell_type": "markdown",
   "metadata": {},
   "source": [
    "#Input Params\n",
    "with tf.name_scope(\"input_target_placeholders\"):    \n",
    "    input_dim = 1\n",
    "    ##The Input Layer as a Placeholder\n",
    "    #Since we will provide data sequentially, the 'batch size'\n",
    "    #is 1.\n",
    "    input_layer = tf.placeholder(tf.float32, [1, input_dim*7],name=\"input_data\")\n",
    "    correct_output = tf.placeholder(tf.float32, [input_dim],name=\"target_data\")"
   ]
  },
  {
   "cell_type": "markdown",
   "metadata": {},
   "source": [
    "with tf.variable_scope(\"lstmLayer\",reuse=tf.AUTO_REUSE ):    \n",
    "    lstm_layer1 = rnn_cell.BasicLSTMCell(input_dim*1026,state_is_tuple=False)\n",
    "    #lstm_layer1 = rnn_cell.BasicLSTMCell(input_dim*1,state_is_tuple=True)\n",
    "\n",
    "    #The LSTM state as a Variable initialized to zeroes\n",
    "    lstm_state1 = tf.Variable(tf.zeros([1, lstm_layer1.state_size]),trainable=False,name=\"initial_state\")\n",
    "    #lstm_state1 = tf.Variable(lstm_layer1.zero_state(1,lstm_layer1.state_size[-1] ), trainable=False)\n",
    "    #Connect the input layer and initial LSTM state to the LSTM cell\n",
    "    lstm_output1, lstm_state_output1 = lstm_layer1(input_layer, lstm_state1)\n",
    "    #The LSTM state will get updated\n",
    "    outputs = lstm_state1.assign(lstm_state_output1)"
   ]
  },
  {
   "cell_type": "code",
   "execution_count": 16,
   "metadata": {},
   "outputs": [
    {
     "name": "stdout",
     "output_type": "stream",
     "text": [
      "WARNING:tensorflow:<tensorflow.python.ops.rnn_cell_impl.LSTMCell object at 0x7f4e9a8229b0>: Using a concatenated state is slower and will soon be deprecated.  Use state_is_tuple=True.\n"
     ]
    }
   ],
   "source": [
    "with tf.variable_scope(\"lstmLayer\",reuse=tf.AUTO_REUSE ):    \n",
    "    lstm_layer1 = rnn_cell.LSTMCell(1026,state_is_tuple=False,name='basic_lstm_cell')\n",
    "    #lstm_layer1 = rnn_cell.BasicLSTMCell(input_dim*1,state_is_tuple=True)\n",
    "\n",
    "    #The LSTM state as a Variable initialized to zeroes\n",
    "    lstm_state1 = tf.Variable(tf.zeros([1, lstm_layer1.state_size]),trainable=False,name=\"initial_state\")\n",
    "    \n",
    "    #lstm_state1 = tf.Variable(lstm_layer1.zero_state(1,lstm_layer1.state_size[-1] ), trainable=False)\n",
    "    #Connect the input layer and initial LSTM state to the LSTM cell\n",
    "    lstm_output1, lstm_state_output1 = lstm_layer1(input_layer, lstm_state1)\n",
    "    #The LSTM state will get updated\n",
    "    outputs = lstm_state1.assign(lstm_state_output1)"
   ]
  },
  {
   "cell_type": "code",
   "execution_count": 17,
   "metadata": {},
   "outputs": [
    {
     "data": {
      "text/plain": [
       "<tf.Tensor 'lstmLayer/basic_lstm_cell/mul_2:0' shape=(1, 1026) dtype=float32>"
      ]
     },
     "execution_count": 17,
     "metadata": {},
     "output_type": "execute_result"
    }
   ],
   "source": [
    "lstm_output1"
   ]
  },
  {
   "cell_type": "code",
   "execution_count": 18,
   "metadata": {},
   "outputs": [
    {
     "data": {
      "text/plain": [
       "2048"
      ]
     },
     "execution_count": 18,
     "metadata": {},
     "output_type": "execute_result"
    }
   ],
   "source": [
    "2**11"
   ]
  },
  {
   "cell_type": "code",
   "execution_count": 19,
   "metadata": {},
   "outputs": [
    {
     "data": {
      "text/plain": [
       "2052"
      ]
     },
     "execution_count": 19,
     "metadata": {},
     "output_type": "execute_result"
    }
   ],
   "source": [
    "2052"
   ]
  },
  {
   "cell_type": "code",
   "execution_count": 20,
   "metadata": {},
   "outputs": [
    {
     "data": {
      "text/plain": [
       "<tf.Tensor 'input_target_placeholders/input_data:0' shape=(1, 11) dtype=float32>"
      ]
     },
     "execution_count": 20,
     "metadata": {},
     "output_type": "execute_result"
    }
   ],
   "source": [
    "input_layer"
   ]
  },
  {
   "cell_type": "code",
   "execution_count": 21,
   "metadata": {},
   "outputs": [
    {
     "data": {
      "text/plain": [
       "<tf.Tensor 'input_target_placeholders/target_data:0' shape=(1, 4) dtype=float32>"
      ]
     },
     "execution_count": 21,
     "metadata": {},
     "output_type": "execute_result"
    }
   ],
   "source": [
    "correct_output"
   ]
  },
  {
   "cell_type": "code",
   "execution_count": 22,
   "metadata": {},
   "outputs": [
    {
     "data": {
      "text/plain": [
       "TensorShape([Dimension(1), Dimension(1026)])"
      ]
     },
     "execution_count": 22,
     "metadata": {},
     "output_type": "execute_result"
    }
   ],
   "source": [
    "lstm_output1.shape"
   ]
  },
  {
   "cell_type": "code",
   "execution_count": 46,
   "metadata": {},
   "outputs": [],
   "source": [
    "with tf.name_scope(\"weight_Bias_learning_rate\"):\n",
    "    global_step = tf.Variable(0, trainable=False,name=\"global_step\")\n",
    "    starter_learning_rate = 1e-3\n",
    "    learning_rate = tf.train.exponential_decay(starter_learning_rate, global_step,\n",
    "                                           1000, 0.8, staircase=False,name =\"Exponential_decay\")\n",
    "    ##The Regression-Output Layer\n",
    "    #The Weights and Biases matrices first\n",
    "    output_W1 = tf.Variable(tf.truncated_normal([int(lstm_output1.shape[1]),4]),name=\"weight\")\n",
    "    output_b1 = tf.Variable(tf.truncated_normal([4]),name=\"bias\")\n"
   ]
  },
  {
   "cell_type": "code",
   "execution_count": null,
   "metadata": {},
   "outputs": [],
   "source": []
  },
  {
   "cell_type": "code",
   "execution_count": 47,
   "metadata": {},
   "outputs": [],
   "source": [
    "with tf.name_scope(\"prediction\"):\n",
    "    #Compute the output\n",
    "    final_output = tf.matmul(lstm_output1, output_W1) + output_b1"
   ]
  },
  {
   "cell_type": "code",
   "execution_count": 48,
   "metadata": {},
   "outputs": [
    {
     "data": {
      "text/plain": [
       "<tf.Tensor 'prediction_1/add:0' shape=(1, 4) dtype=float32>"
      ]
     },
     "execution_count": 48,
     "metadata": {},
     "output_type": "execute_result"
    }
   ],
   "source": [
    "final_output"
   ]
  },
  {
   "cell_type": "code",
   "execution_count": 49,
   "metadata": {},
   "outputs": [],
   "source": [
    "\n",
    "lambda_l2_reg=0.5 \n",
    "l2 = lambda_l2_reg * sum( tf.nn.l2_loss(tf_var) for tf_var in tf.trainable_variables() if not (\"noreg\" in tf_var.name or \"bias\" in tf_var.name) )"
   ]
  },
  {
   "cell_type": "code",
   "execution_count": 50,
   "metadata": {},
   "outputs": [],
   "source": [
    "\n",
    "with tf.name_scope(\"RMS_error\"):\n",
    "    ##Calculate the Sum-of-Squares Error\n",
    "    error = tf.pow(tf.subtract(final_output, correct_output), 2)+l2"
   ]
  },
  {
   "cell_type": "code",
   "execution_count": 51,
   "metadata": {},
   "outputs": [],
   "source": [
    "with tf.variable_scope(\"optimizer\",reuse=tf.AUTO_REUSE ):    \n",
    "    ##The Optimizer\n",
    "    #Adam works best\n",
    "    train_step = tf.train.AdamOptimizer(learning_rate).minimize(error)"
   ]
  },
  {
   "cell_type": "code",
   "execution_count": 52,
   "metadata": {},
   "outputs": [],
   "source": [
    "# Create a summary to monitor MSE\n",
    "mse=tf.summary.tensor_summary(\"errors_Summary\",error)\n",
    "# Create a summary to monitor  predictions\n",
    "prediction=tf.summary.tensor_summary(\"predictions_Summmary\", final_output)\n",
    "# Create a summary to monitor bias\n",
    "bias_vec=tf.summary.tensor_summary(\"bias\", output_b1)\n",
    "# create sumary\n",
    "#rate_vec=tf.summary.scalar(\"rate\", learning_rate)\n",
    "\n",
    "\n",
    "#histogram plot\n",
    "\n",
    "error_stats=tf.summary.histogram(\"errors_Histogram\",error)\n",
    "weight_stats=tf.summary.histogram(\"weights_Histogram\",output_W1)\n",
    "bias_stats=tf.summary.histogram(\"biases_Histogram\",output_b1)\n",
    "#learning_stats=tf.histogram_summary(\"biases_Histogram\",learning_rate)\n",
    "\n",
    "\n",
    "#merged_summary_op =  tf.merge_all_summaries()\n",
    "merged_summary_op =   tf.summary.merge([mse,prediction,bias_vec,error_stats,weight_stats,bias_stats])"
   ]
  },
  {
   "cell_type": "code",
   "execution_count": 53,
   "metadata": {},
   "outputs": [],
   "source": [
    "##Session\n",
    "sess = tf.Session()\n",
    "#Initialize all Variables\n",
    "sess.run(tf.global_variables_initializer())"
   ]
  },
  {
   "cell_type": "code",
   "execution_count": 54,
   "metadata": {},
   "outputs": [],
   "source": [
    "#logs_path = './lstm/'\n"
   ]
  },
  {
   "cell_type": "markdown",
   "metadata": {},
   "source": [
    "##Training Parameters\n",
    "n_iter = 720 \n",
    "inner_iter = 720\n",
    "actual_output1 = []\n",
    "network_output1 = []\n",
    "validation_prediction=[];\n",
    "validation_target =[];\n",
    "lower_bound=0;\n",
    "upper_bound=700;\n",
    "prediction_window=7"
   ]
  },
  {
   "cell_type": "markdown",
   "metadata": {},
   "source": [
    "\n",
    "import copy\n",
    "#new_list = copy.deepcopy(old_list)\n",
    "Test_eval=copy.deepcopy(storeOneList[720:])"
   ]
  },
  {
   "cell_type": "markdown",
   "metadata": {},
   "source": [
    "\n",
    "sliding_window"
   ]
  },
  {
   "cell_type": "code",
   "execution_count": 55,
   "metadata": {},
   "outputs": [
    {
     "data": {
      "text/plain": [
       "array([ 0.09408581,  0.02444745,  0.05510224,  0.09477388, -0.13352903,\n",
       "       -0.02152792, -0.07569873])"
      ]
     },
     "execution_count": 55,
     "metadata": {},
     "output_type": "execute_result"
    }
   ],
   "source": [
    "\n",
    "mu, sigma = 0, 0.1 # mean and standard deviation\n",
    "sample_action = lambda mu, sigma, action_dim: np.random.normal(mu, sigma, action_dim)\n",
    "sample_data = [sample_action(mu, sigma, 7) for x in range(100) ]\n",
    "target = [sample_action(mu, sigma, 4) for x in range(100) ]\n",
    "sample_data[0]"
   ]
  },
  {
   "cell_type": "code",
   "execution_count": 56,
   "metadata": {},
   "outputs": [],
   "source": [
    "mu, sigma = 0, 0.1 # mean and standard deviation\n",
    "sample_action = lambda mu, sigma, action_dim: np.random.normal(mu, sigma, action_dim)\n",
    "train = [sample_action(mu, sigma, 7) for x in range(50) ]\n",
    "train_act = [sample_action(mu, sigma, 4) for x in range(50) ]"
   ]
  },
  {
   "cell_type": "code",
   "execution_count": 57,
   "metadata": {},
   "outputs": [
    {
     "data": {
      "text/plain": [
       "array([-0.03211867, -0.00892193,  0.04252648,  0.03840397])"
      ]
     },
     "execution_count": 57,
     "metadata": {},
     "output_type": "execute_result"
    }
   ],
   "source": [
    "train_act[0]"
   ]
  },
  {
   "cell_type": "code",
   "execution_count": 58,
   "metadata": {},
   "outputs": [
    {
     "data": {
      "text/plain": [
       "18"
      ]
     },
     "execution_count": 58,
     "metadata": {},
     "output_type": "execute_result"
    }
   ],
   "source": [
    "import random\n",
    "train_index= random.randint(0,len(train))\n",
    "#k = random.choice(0,len(train))\n",
    "train_index"
   ]
  },
  {
   "cell_type": "code",
   "execution_count": 59,
   "metadata": {},
   "outputs": [],
   "source": [
    "#[np.array_equal(k,x) for x in train].index(True)\n"
   ]
  },
  {
   "cell_type": "code",
   "execution_count": 60,
   "metadata": {},
   "outputs": [
    {
     "data": {
      "text/plain": [
       "array([ 0.04912855, -0.02790943,  0.06007348, -0.06663669,  0.11416862,\n",
       "        0.08130638, -0.0910352 ])"
      ]
     },
     "execution_count": 60,
     "metadata": {},
     "output_type": "execute_result"
    }
   ],
   "source": [
    "train[49]"
   ]
  },
  {
   "cell_type": "code",
   "execution_count": 61,
   "metadata": {},
   "outputs": [],
   "source": [
    "def counter(loop_count,sample_size):\n",
    "    if loop_count < sample_size:\n",
    "        return loop_count\n",
    "    else:\n",
    "        loop_count = random.randint(0,sample_size)\n",
    "        return loop_count\n",
    "    "
   ]
  },
  {
   "cell_type": "code",
   "execution_count": 62,
   "metadata": {},
   "outputs": [
    {
     "name": "stderr",
     "output_type": "stream",
     "text": [
      "100%|██████████| 500/500 [00:17<00:00, 29.21it/s]\n"
     ]
    }
   ],
   "source": [
    "from tqdm import tqdm\n",
    "\n",
    "#### for range dont use 2 for loops\n",
    "#### random sampleing from data set\n",
    "error_=[]\n",
    "n_iter = len(sample_data)-2\n",
    "iterations = 500\n",
    "inner_iter = 10\n",
    "#tf.summary.FileWriter\n",
    "#eval_index \n",
    "#writer = tf.summary.FileWriter(logs_path, graph= tf.get_default_graph()) \n",
    "actual_output1 = []\n",
    "network_output1 = []\n",
    "validation_target = []\n",
    "validation_prediction = []\n",
    "\n",
    "\n",
    "for i in tqdm(range(iterations)):\n",
    "            data_index = counter(i,n_iter)\n",
    "            previous_action = target[data_index] + action()\n",
    "            prevous_state = sample_data[data_index]\n",
    "            state_action_input = np.hstack((prevous_state,previous_action)).reshape(1,11)\n",
    "            action_target= target[data_index+1].reshape(1,4)\n",
    "            _, _, network_output,errors,summary = sess.run([outputs,\n",
    "                                         train_step,\n",
    "                                         final_output,error,merged_summary_op],\n",
    "                                        feed_dict = {\n",
    "                                            input_layer: state_action_input,\n",
    "                                            correct_output:action_target})\n",
    "            #writer.add_summary(summary)\n",
    "            #error_.append(errors)\n",
    "            \n",
    "            if i%inner_iter==0:\n",
    "                #print(i)\n",
    "                #assert i!=0;\n",
    "                sess.run(lstm_state1.assign(tf.zeros([1, lstm_layer1.state_size])))\n",
    "\n",
    "                #for j in range(len(Test_eval[lower_bound:upper_bound])):\n",
    "                    #input_val, output_val = get_pair(Test2)\n",
    "                eval_index = random.randint(0,len(train)-2)\n",
    "                input_val = np.hstack((train[eval_index],train_act[eval_index]))\n",
    "                output_val = train_act[eval_index+1]\n",
    "                #print(output_val)\n",
    "                _, network_output_val = sess.run([outputs,\n",
    "                                          final_output],\n",
    "                                         feed_dict = {\n",
    "                                         input_layer: input_val.reshape(1,11),\n",
    "                                         correct_output: output_val.reshape(1,4)})\n",
    "                #lower_bound= lower_bound+prediction_window;\n",
    "                #upper_bound = upper_bound + prediction_window;\n",
    "                validation_target.append(output_val)\n",
    "                validation_prediction.append(network_output_val.reshape(4,))\n",
    "            #sess.run(lstm_state1.assign(tf.zeros([1, lstm_layer1.state_size])))\n",
    "\n",
    "            actual_output1.append(sample_data[data_index+1])\n",
    "                #actual_output2.append(output_v[0][1])\n",
    "            network_output1.append(network_output)\n",
    "                #network_output2.append(network_output[0][1])\n",
    "                #x_axis.append(i)"
   ]
  },
  {
   "cell_type": "code",
   "execution_count": 63,
   "metadata": {},
   "outputs": [
    {
     "data": {
      "text/plain": [
       "[array([ 0.10843679, -0.5029556 ,  1.0012134 ,  1.0214958 ], dtype=float32),\n",
       " array([ 0.02844252, -0.4044903 ,  0.55051506,  0.7322998 ], dtype=float32),\n",
       " array([ 0.33268133, -0.52787244,  1.0013658 ,  1.1815529 ], dtype=float32),\n",
       " array([ 0.23281196, -0.20932126,  0.4789287 ,  0.67821234], dtype=float32),\n",
       " array([-0.18706009, -0.44102556,  0.73941344,  0.87635076], dtype=float32),\n",
       " array([ 0.29057685, -0.45247066,  0.6154094 ,  0.948714  ], dtype=float32),\n",
       " array([-0.05771306, -0.3933078 ,  0.7936837 ,  0.9137003 ], dtype=float32),\n",
       " array([ 0.30912304, -0.38133433,  0.5741607 ,  0.8182243 ], dtype=float32),\n",
       " array([ 0.11963854, -0.6870034 ,  0.6675333 ,  1.1286012 ], dtype=float32),\n",
       " array([-0.0968862 , -0.21729627,  0.95382   ,  0.66798466], dtype=float32),\n",
       " array([ 0.07687119, -0.5732172 ,  0.74742305,  1.01329   ], dtype=float32),\n",
       " array([ 0.10222481, -0.48294124,  0.7479076 ,  1.0952066 ], dtype=float32),\n",
       " array([ 0.07560231, -0.303231  ,  0.79347086,  0.82117504], dtype=float32),\n",
       " array([ 0.07803273, -0.3398305 ,  0.86452115,  0.9170691 ], dtype=float32),\n",
       " array([ 0.1571649 , -0.50469345,  0.5599781 ,  1.0983608 ], dtype=float32),\n",
       " array([ 0.04183915, -0.48108554,  0.81297857,  0.9350045 ], dtype=float32),\n",
       " array([ 0.11454841, -0.2112743 ,  0.76034385,  0.8577731 ], dtype=float32),\n",
       " array([ 0.06186924, -0.6917552 ,  0.76534677,  1.0908738 ], dtype=float32),\n",
       " array([ 0.07448895, -0.30242395,  0.7853433 ,  0.8684022 ], dtype=float32),\n",
       " array([ 0.15410969, -0.601215  ,  0.6616515 ,  1.0165441 ], dtype=float32),\n",
       " array([ 0.01969704, -0.44911253,  0.8094464 ,  0.9911908 ], dtype=float32),\n",
       " array([ 0.22889179, -0.30775943,  0.6516509 ,  0.8624732 ], dtype=float32),\n",
       " array([ 0.08234262, -0.541573  ,  0.7940944 ,  0.91118157], dtype=float32),\n",
       " array([ 0.05941122, -0.31619036,  0.82348716,  0.9737379 ], dtype=float32),\n",
       " array([ 0.2519067, -0.6073109,  0.5833508,  1.0209738], dtype=float32),\n",
       " array([ 0.14068754, -0.34592322,  0.79222476,  0.9611609 ], dtype=float32),\n",
       " array([ 0.24408239, -0.33722717,  0.61833453,  0.9372077 ], dtype=float32),\n",
       " array([ 0.07687335, -0.37415528,  0.8486146 ,  0.9615158 ], dtype=float32),\n",
       " array([ 0.1508402 , -0.47724152,  0.6367559 ,  0.93299806], dtype=float32),\n",
       " array([ 0.2785207 , -0.5242837 ,  0.5530752 ,  0.96279055], dtype=float32),\n",
       " array([ 0.16161573, -0.3723026 ,  0.66524553,  0.92060494], dtype=float32),\n",
       " array([ 0.14133903, -0.30581546,  0.74458677,  0.85845476], dtype=float32),\n",
       " array([ 0.18605825, -0.41288006,  0.64951694,  0.904422  ], dtype=float32),\n",
       " array([ 0.13553731, -0.39756125,  0.73429465,  0.8998505 ], dtype=float32),\n",
       " array([ 0.19852057, -0.33400288,  0.6663634 ,  0.89221203], dtype=float32),\n",
       " array([ 0.13771307, -0.40279624,  0.7351735 ,  0.88312906], dtype=float32),\n",
       " array([ 0.0725637 , -0.47778666,  0.8251076 ,  0.95582545], dtype=float32),\n",
       " array([ 0.10016301, -0.39546162,  0.7510358 ,  0.90934557], dtype=float32),\n",
       " array([ 0.1449553 , -0.4396959 ,  0.7560532 ,  0.92503476], dtype=float32),\n",
       " array([ 0.10088696, -0.4128108 ,  0.7993618 ,  0.91393423], dtype=float32),\n",
       " array([ 0.13823538, -0.4212228 ,  0.72811174,  0.91757035], dtype=float32),\n",
       " array([ 0.09963163, -0.44422585,  0.78276366,  0.9176766 ], dtype=float32),\n",
       " array([ 0.11497867, -0.41524822,  0.75805366,  0.9114724 ], dtype=float32),\n",
       " array([ 0.16773555, -0.46865624,  0.7061856 ,  0.9398756 ], dtype=float32),\n",
       " array([ 0.0808944, -0.4192345,  0.7570823,  0.9086896], dtype=float32),\n",
       " array([ 0.14786686, -0.46794719,  0.7705618 ,  0.9390588 ], dtype=float32),\n",
       " array([ 0.11050042, -0.4754358 ,  0.78604835,  0.9413809 ], dtype=float32),\n",
       " array([ 0.11421858, -0.43248394,  0.8078386 ,  0.9313897 ], dtype=float32),\n",
       " array([ 0.14644893, -0.4494552 ,  0.7270355 ,  0.9422924 ], dtype=float32),\n",
       " array([ 0.10039592, -0.4425863 ,  0.772444  ,  0.8829518 ], dtype=float32)]"
      ]
     },
     "execution_count": 63,
     "metadata": {},
     "output_type": "execute_result"
    }
   ],
   "source": [
    "validation_prediction\n"
   ]
  },
  {
   "cell_type": "code",
   "execution_count": 64,
   "metadata": {},
   "outputs": [
    {
     "data": {
      "text/plain": [
       "[array([ 0.02077887, -0.09171257,  0.11800379,  0.18928013]),\n",
       " array([ 0.01018582, -0.04784613, -0.16851224, -0.01055582]),\n",
       " array([-0.23417463, -0.24276541, -0.01842355, -0.10425959]),\n",
       " array([-0.07687815, -0.00544664,  0.12641366,  0.01645737]),\n",
       " array([-0.05673169, -0.07246183, -0.15123012,  0.08153634]),\n",
       " array([-0.01682042,  0.06907857, -0.07439026, -0.00339843]),\n",
       " array([ 0.11382261, -0.00810905, -0.12113273,  0.07722559]),\n",
       " array([ 0.069467  , -0.09155838,  0.14273009,  0.05002478]),\n",
       " array([ 0.1600872 , -0.14219879, -0.17609195,  0.03513876]),\n",
       " array([-0.0512838 ,  0.06597497,  0.10716858, -0.08119034]),\n",
       " array([-0.07687815, -0.00544664,  0.12641366,  0.01645737]),\n",
       " array([-0.05673169, -0.07246183, -0.15123012,  0.08153634]),\n",
       " array([ 0.02424223,  0.16389929, -0.0666137 ,  0.10236802]),\n",
       " array([ 0.08215281, -0.17907243, -0.10300319,  0.12565963]),\n",
       " array([-0.05229789, -0.11001369, -0.0820013 , -0.08757573]),\n",
       " array([-0.07111848,  0.12441613, -0.0809787 , -0.09648751]),\n",
       " array([-0.00458074, -0.02670298, -0.12705694, -0.08645467]),\n",
       " array([ 0.03149905, -0.0186776 ,  0.08866427, -0.07399262]),\n",
       " array([0.04138521, 0.21230874, 0.02539711, 0.10552635]),\n",
       " array([ 0.10999151, -0.05622903, -0.07715292, -0.10871522]),\n",
       " array([-0.00504781,  0.0238836 ,  0.02918973, -0.10042518]),\n",
       " array([ 0.05679878, -0.04575984, -0.05075387,  0.03919464]),\n",
       " array([ 0.05679878, -0.04575984, -0.05075387,  0.03919464]),\n",
       " array([-0.13613627, -0.05482874, -0.14623321, -0.18386151]),\n",
       " array([ 0.02424223,  0.16389929, -0.0666137 ,  0.10236802]),\n",
       " array([0.0893834 , 0.12409297, 0.03996839, 0.1618972 ]),\n",
       " array([-0.05673169, -0.07246183, -0.15123012,  0.08153634]),\n",
       " array([ 0.17133987, -0.05645039, -0.03396304, -0.09639732]),\n",
       " array([ 0.069467  , -0.09155838,  0.14273009,  0.05002478]),\n",
       " array([-0.074636  , -0.09624951, -0.02182003,  0.06322471]),\n",
       " array([ 0.06030358, -0.2615856 , -0.03556542,  0.01031446]),\n",
       " array([ 0.08594374, -0.06293679,  0.12441805,  0.22970095]),\n",
       " array([ 0.15495379,  0.02886627, -0.07862747, -0.21445115]),\n",
       " array([-0.01589468,  0.07503932, -0.07557435,  0.05050999]),\n",
       " array([ 0.069467  , -0.09155838,  0.14273009,  0.05002478]),\n",
       " array([ 0.08594374, -0.06293679,  0.12441805,  0.22970095]),\n",
       " array([ 0.00316737, -0.01956248,  0.07790594,  0.07339244]),\n",
       " array([ 0.04043594,  0.00261587, -0.05294142, -0.11843325]),\n",
       " array([-0.0512838 ,  0.06597497,  0.10716858, -0.08119034]),\n",
       " array([ 0.15565611, -0.21453   , -0.25351301,  0.0426117 ]),\n",
       " array([ 0.04043594,  0.00261587, -0.05294142, -0.11843325]),\n",
       " array([ 0.11382261, -0.00810905, -0.12113273,  0.07722559]),\n",
       " array([ 0.04098862,  0.14230299, -0.05606276, -0.15546588]),\n",
       " array([-0.23417463, -0.24276541, -0.01842355, -0.10425959]),\n",
       " array([ 0.01018582, -0.04784613, -0.16851224, -0.01055582]),\n",
       " array([-0.01682042,  0.06907857, -0.07439026, -0.00339843]),\n",
       " array([ 0.10999151, -0.05622903, -0.07715292, -0.10871522]),\n",
       " array([ 0.06030358, -0.2615856 , -0.03556542,  0.01031446]),\n",
       " array([-0.00848134,  0.06842611, -0.00881779, -0.13844931]),\n",
       " array([ 0.05679878, -0.04575984, -0.05075387,  0.03919464])]"
      ]
     },
     "execution_count": 64,
     "metadata": {},
     "output_type": "execute_result"
    }
   ],
   "source": [
    "validation_target"
   ]
  },
  {
   "cell_type": "code",
   "execution_count": null,
   "metadata": {},
   "outputs": [],
   "source": []
  },
  {
   "cell_type": "code",
   "execution_count": null,
   "metadata": {},
   "outputs": [],
   "source": []
  },
  {
   "cell_type": "code",
   "execution_count": null,
   "metadata": {},
   "outputs": [],
   "source": []
  },
  {
   "cell_type": "code",
   "execution_count": null,
   "metadata": {},
   "outputs": [],
   "source": []
  },
  {
   "cell_type": "code",
   "execution_count": null,
   "metadata": {},
   "outputs": [],
   "source": []
  },
  {
   "cell_type": "code",
   "execution_count": null,
   "metadata": {},
   "outputs": [],
   "source": []
  },
  {
   "cell_type": "code",
   "execution_count": null,
   "metadata": {},
   "outputs": [],
   "source": []
  },
  {
   "cell_type": "code",
   "execution_count": null,
   "metadata": {},
   "outputs": [],
   "source": []
  },
  {
   "cell_type": "code",
   "execution_count": null,
   "metadata": {},
   "outputs": [],
   "source": []
  },
  {
   "cell_type": "code",
   "execution_count": 218,
   "metadata": {},
   "outputs": [
    {
     "name": "stderr",
     "output_type": "stream",
     "text": [
      "/home/cat/anaconda3/envs/cat/lib/python3.6/site-packages/matplotlib/axes/_axes.py:6462: UserWarning:\n",
      "\n",
      "The 'normed' kwarg is deprecated, and has been replaced by the 'density' kwarg.\n",
      "\n",
      "/home/cat/anaconda3/envs/cat/lib/python3.6/site-packages/ipykernel_launcher.py:6: MatplotlibDeprecationWarning:\n",
      "\n",
      "scipy.stats.norm.pdf\n",
      "\n"
     ]
    },
    {
     "data": {
      "text/plain": [
       "Text(0.5,0,'Training example')"
      ]
     },
     "execution_count": 218,
     "metadata": {},
     "output_type": "execute_result"
    },
    {
     "data": {
      "image/png": "[encoded data removed]",
      "text/plain": [
       "<Figure size 432x288 with 1 Axes>"
      ]
     },
     "metadata": {
      "needs_background": "light"
     },
     "output_type": "display_data"
    }
   ],
   "source": [
    "import matplotlib.mlab as mlab\n",
    "\n",
    "fig, ax = plt.subplots()\n",
    "n, bins, patches=plt.hist(errorplot.reshape(700,),100,normed=1,facecolor='deepskyblue',alpha=0.9,label='Histogram')\n",
    "mu= np.mean(errorplot);sigma=np.std(errorplot);\n",
    "y = mlab.normpdf( bins,mu,sigma)\n",
    "#y = mlab.normpdf( bins, mu, sigma)\n",
    "plt.plot(bins, y, 'r--', linewidth=5,label=\"pdf plot Over Histogram\")\n",
    "#ax.set_yscale('log')\n",
    "#ax.set_xscale('log')\n",
    "plt.legend(bbox_to_anchor=(1.05, 1), loc=2, borderaxespad=0.)\n",
    "plt.title(\"Histogram plot for error\",fontweight='bold')\n",
    "plt.ylabel(\"Error\",fontweight='bold')\n",
    "plt.xlabel(\"Training example\",fontweight='bold')"
   ]
  },
  {
   "cell_type": "code",
   "execution_count": null,
   "metadata": {},
   "outputs": [],
   "source": []
  },
  {
   "cell_type": "markdown",
   "metadata": {},
   "source": [
    "# Preditionsm"
   ]
  },
  {
   "cell_type": "code",
   "execution_count": null,
   "metadata": {},
   "outputs": [],
   "source": []
  },
  {
   "cell_type": "code",
   "execution_count": 219,
   "metadata": {},
   "outputs": [
    {
     "data": {
      "text/plain": [
       "array([[ 0.,  0.,  0., ...,  0.,  0.,  0.]], dtype=float32)"
      ]
     },
     "execution_count": 219,
     "metadata": {},
     "output_type": "execute_result"
    }
   ],
   "source": [
    "validation_set = storeOneList[721:]\n",
    "counter = 0 # reset counter \n",
    "sess.run(lstm_state1.assign(tf.zeros([1, lstm_layer1.state_size])))\n"
   ]
  },
  {
   "cell_type": "code",
   "execution_count": null,
   "metadata": {},
   "outputs": [],
   "source": []
  },
  {
   "cell_type": "code",
   "execution_count": 220,
   "metadata": {},
   "outputs": [],
   "source": [
    "actual_output_test = []\n",
    "network_output_test = []\n",
    "\n",
    " \n",
    "for i in range(len(validation_set)):\n",
    "    input_v, output_v = get_pair(validation_set)\n",
    "    #print(input_v, output_v)\n",
    "    _, network_output = sess.run([outputs,\n",
    "                                  final_output],\n",
    "                                 feed_dict = {\n",
    "                                     input_layer: input_v,\n",
    "                                     correct_output: output_v})\n",
    "        \n",
    " \n",
    "    actual_output_test.append(output_v)\n",
    "    #print(network_output)\n",
    "    network_output_test.append(network_output)"
   ]
  },
  {
   "cell_type": "code",
   "execution_count": 221,
   "metadata": {},
   "outputs": [
    {
     "data": {
      "text/plain": [
       "(40, 1, 1)"
      ]
     },
     "execution_count": 221,
     "metadata": {},
     "output_type": "execute_result"
    }
   ],
   "source": [
    "np.array(network_output_test).shape"
   ]
  },
  {
   "cell_type": "code",
   "execution_count": null,
   "metadata": {},
   "outputs": [],
   "source": []
  },
  {
   "cell_type": "code",
   "execution_count": 222,
   "metadata": {},
   "outputs": [
    {
     "data": {
      "text/plain": [
       "<Figure size 2160x144 with 0 Axes>"
      ]
     },
     "metadata": {},
     "output_type": "display_data"
    },
    {
     "data": {
      "image/png": "[encoded data removed]",
      "text/plain": [
       "<Figure size 432x288 with 1 Axes>"
      ]
     },
     "metadata": {
      "needs_background": "light"
     },
     "output_type": "display_data"
    }
   ],
   "source": [
    "import matplotlib.pyplot \n",
    "\n",
    "\n",
    "fig = plt.figure(figsize=(30, 2))\n",
    "\n",
    "fig, ax = plt.subplots()\n",
    "ax.plot( np.array(network_output_test).reshape(40,1), 'r-',color = 'deepskyblue',label='Predicted Values for 48 hrs Time Frame')\n",
    "ax.plot( np.array(actual_output_test).reshape(40,1), 'b-',color = 'goldenrod',label='Actual Values  48 hours Time Frame')\n",
    "#ax.xaxis.set_minor_locator(dates.MonthLocator())\n",
    "plt.legend(bbox_to_anchor=(1.05, 1), loc=2, borderaxespad=0.,fontsize='x-large')\n",
    "#ax.xaxis.set_minor_formatter(dates.DateFormatter('%H:%M:%S'))\n",
    "#ax.xaxis.set_minor_formatter(dates.DateFormatter('%d\\n%a'))\n",
    "#ax.xaxis.grid(True, which=\"minor\")\n",
    "#ax.yaxis.grid()\n",
    "#ax.xaxis.set_major_locator(dates.DayLocator())\n",
    "#ax.xaxis.set_major_formatter(dates.DateFormatter('\\n\\n%a\\%b\\%Y'))\n",
    "#ax.xaxis.set_major_formatter(dates.DateFormatter('%Y-%b-%a %H:%M:%S'))\n",
    "#ax.xaxis.grid(True, which=\"minor\")\n",
    "\n",
    "\n",
    "plt.title(\"PM10 Validation prediction and Actual Value Plots\",fontweight='bold')\n",
    "#ax.xaxis.set_minor_formatter(dates.DateFormatter('\\n\\n%a\\%b\\%Y'))\n",
    "plt.ylabel(\"sales values\",fontweight='bold')\n",
    "plt.xlabel(\"Day\",fontweight='bold')\n",
    "\n",
    "#plt.xticks( rotation=25 )\n",
    "#plt.tight_layout()\n",
    "\n",
    "plt.show()"
   ]
  },
  {
   "cell_type": "markdown",
   "metadata": {},
   "source": [
    "# Testing "
   ]
  },
  {
   "cell_type": "code",
   "execution_count": 223,
   "metadata": {},
   "outputs": [],
   "source": [
    "\n",
    "n_list = 28;\n",
    "Feature_eval=copy.deepcopy(Test_eval[-7:])"
   ]
  },
  {
   "cell_type": "code",
   "execution_count": 224,
   "metadata": {},
   "outputs": [],
   "source": [
    "def get_pair_Test(Target):\n",
    "    \"\"\"\n",
    "    Returns an (current, target) \n",
    "    Target is lag steps 24 ahead of current\n",
    "    \"\"\"\n",
    " \n",
    "    \n",
    "    global sliding_window_test\n",
    "    #sliding_window_test.append(dataGetter(Target))\n",
    "    #print(len(sliding_window))\n",
    "    #sliding_window_featureset.append(dataGetter_target(Target2))\n",
    "    \n",
    "    #input_value = sliding_window_test\n",
    "    \n",
    "    \n",
    "    input_value=np.array(sliding_window_test)\n",
    "    #print(input_value.shape)\n",
    "    \n",
    "    #print(input_value.shape)\n",
    "    input_value=np.reshape(input_value,(1,len(sliding_window_test)))\n",
    "    mx = np.ma.masked_invalid(input_value)\n",
    "    \n",
    "    ##print(input_value)\n",
    "    #output_value = sliding_window[-1]\n",
    "    #my = np.ma.masked_invalid(output_value)\n",
    "    ####remove last value from sliding_window\n",
    "    #_ = sliding_window_featureset[-1]\n",
    "    ##print(output_value)\n",
    "   # sliding_window = sliding_window[1:]\n",
    "    #sliding_window_featureset = sliding_window_featureset[1:]\n",
    "    #print(len(sliding_window))\n",
    "    # Process output\n",
    "    mask_x = ~mx.mask # let mask return true for those non-nan values\n",
    "    ## y output\n",
    "    #mask_y =~my.mask\n",
    "    #mask_yfloat = mask_y\n",
    "    return input_value"
   ]
  },
  {
   "cell_type": "code",
   "execution_count": 225,
   "metadata": {},
   "outputs": [],
   "source": [
    "counter_test=0;\n",
    "def dataGetter_test(datalist):\n",
    "    \"\"\"\n",
    "    Returns a single PM10 value.\n",
    "    Input: PM10 Data list named Target_list above\n",
    "    Output: single PM10 value\n",
    "    \"\"\"\n",
    "    global counter_test;\n",
    "    assert type(datalist) == list;\n",
    "    \n",
    "    \n",
    "    value = datalist[counter_test]\n",
    "    #print(counter)\n",
    "\n",
    "\n",
    "    counter_test = counter_test +1\n",
    "             \n",
    "    return value"
   ]
  },
  {
   "cell_type": "code",
   "execution_count": 226,
   "metadata": {},
   "outputs": [],
   "source": [
    "\n",
    "previous_sliding_window_length=28;\n",
    "time_step_shift = 7;"
   ]
  },
  {
   "cell_type": "code",
   "execution_count": 227,
   "metadata": {},
   "outputs": [],
   "source": [
    "#sess.run(lstm_state1.assign(tf.zeros([1, lstm_layer1.state_size])));\n"
   ]
  },
  {
   "cell_type": "code",
   "execution_count": 228,
   "metadata": {},
   "outputs": [],
   "source": [
    "sliding_window_test = []\n",
    "lag=8 # 24 hours time step from 0 to 24 plus the window_step_move (25) which is to be predicted\n",
    "window_move_step = 1\n",
    "for i in range(lag - window_move_step):\n",
    "    temp=dataGetter_test(Feature_eval)\n",
    "    \n",
    "    sliding_window_test.append(temp);"
   ]
  },
  {
   "cell_type": "code",
   "execution_count": 229,
   "metadata": {},
   "outputs": [
    {
     "data": {
      "text/plain": [
       "array([[ 0.,  0.,  0., ...,  0.,  0.,  0.]], dtype=float32)"
      ]
     },
     "execution_count": 229,
     "metadata": {},
     "output_type": "execute_result"
    }
   ],
   "source": [
    " \n",
    "sess.run(lstm_state1.assign(tf.zeros([1, lstm_layer1.state_size])))\n"
   ]
  },
  {
   "cell_type": "code",
   "execution_count": null,
   "metadata": {},
   "outputs": [],
   "source": []
  },
  {
   "cell_type": "code",
   "execution_count": null,
   "metadata": {},
   "outputs": [],
   "source": []
  },
  {
   "cell_type": "code",
   "execution_count": 230,
   "metadata": {},
   "outputs": [],
   "source": [
    "\n",
    "#actual_output_test = []\n",
    "network_output_test = []\n",
    "\n",
    " \n",
    "for i in range(previous_sliding_window_length):\n",
    "   \n",
    "    input_v = get_pair_Test(sliding_window_test)\n",
    "    _, network_output = sess.run([outputs,\n",
    "                                  final_output],\n",
    "                                 feed_dict = {\n",
    "                                     input_layer: input_v})\n",
    "       \n",
    "    \n",
    "    sliding_window_test.append( network_output[0]) # append new values for prediction\n",
    "    #print(len(sliding_window_test))\n",
    "    sliding_window_test.pop(0) # remove the first value of the list \n",
    "    #print(len(sliding_window_test))\n",
    "    time_step_shift = time_step_shift + 1; # increae the time step\n",
    "    network_output_test.append(network_output)"
   ]
  },
  {
   "cell_type": "code",
   "execution_count": 231,
   "metadata": {},
   "outputs": [],
   "source": [
    "#network_output_test"
   ]
  },
  {
   "cell_type": "code",
   "execution_count": 239,
   "metadata": {},
   "outputs": [
    {
     "data": {
      "text/plain": [
       "<Figure size 2160x144 with 0 Axes>"
      ]
     },
     "metadata": {},
     "output_type": "display_data"
    },
    {
     "data": {
      "image/png": "[encoded data removed]",
      "text/plain": [
       "<Figure size 432x288 with 1 Axes>"
      ]
     },
     "metadata": {
      "needs_background": "light"
     },
     "output_type": "display_data"
    }
   ],
   "source": [
    "import matplotlib.pyplot \n",
    "\n",
    "\n",
    "fig = plt.figure(figsize=(30, 2))\n",
    "\n",
    "fig, ax = plt.subplots()\n",
    "ax.plot( np.array(network_output_test).reshape(28,1), 'r-',color = 'deepskyblue',label='forecast for Next Month')\n",
    "#ax.plot( np.array(actual_output_test).reshape(40,1), 'b-',color = 'goldenrod',label='Actual Values  48 hours Time Frame')\n",
    "#ax.xaxis.set_minor_locator(dates.MonthLocator())\n",
    "plt.legend(bbox_to_anchor=(1.05, 1), loc=2, borderaxespad=0.,fontsize='x-large')\n",
    "#ax.xaxis.set_minor_formatter(dates.DateFormatter('%H:%M:%S'))\n",
    "#ax.xaxis.set_minor_formatter(dates.DateFormatter('%d\\n%a'))\n",
    "#ax.xaxis.grid(True, which=\"minor\")\n",
    "#ax.yaxis.grid()\n",
    "#ax.xaxis.set_major_locator(dates.DayLocator())\n",
    "#ax.xaxis.set_major_formatter(dates.DateFormatter('\\n\\n%a\\%b\\%Y'))\n",
    "#ax.xaxis.set_major_formatter(dates.DateFormatter('%Y-%b-%a %H:%M:%S'))\n",
    "#ax.xaxis.grid(True, which=\"minor\")\n",
    "\n",
    "\n",
    "plt.title(\"Sales Values Forecast \",fontweight='bold')\n",
    "#ax.xaxis.set_minor_formatter(dates.DateFormatter('\\n\\n%a\\%b\\%Y'))\n",
    "plt.ylabel(\"sales values\",fontweight='bold')\n",
    "plt.xlabel(\"Day\",fontweight='bold')\n",
    "\n",
    "#plt.xticks( rotation=25 )\n",
    "#plt.tight_layout()\n",
    "\n",
    "plt.show()"
   ]
  },
  {
   "cell_type": "code",
   "execution_count": 237,
   "metadata": {},
   "outputs": [],
   "source": [
    "forecast= list(np.array(network_output_test).reshape(28)) # save forecast as list"
   ]
  },
  {
   "cell_type": "code",
   "execution_count": null,
   "metadata": {},
   "outputs": [],
   "source": []
  },
  {
   "cell_type": "code",
   "execution_count": 240,
   "metadata": {},
   "outputs": [],
   "source": [
    "# save model\n",
    "xlabels = pd.date_range(start='2/1/2019', end='2/28/2019')\n",
    "\n",
    "lstm_store_1 = pd.DataFrame(list(zip(xlabels, forecast, [1]*28)), \n",
    "               columns =['timestamp', 'Sales Forecast','storeId']) \n",
    "\n",
    "lstm_store_1.to_csv('lstm_store_1_forecast', sep=',')"
   ]
  },
  {
   "cell_type": "code",
   "execution_count": 241,
   "metadata": {},
   "outputs": [],
   "source": [
    "# Only store 1 is presented here with LSTM.\n",
    "# The same pipeline follows here for store 2 "
   ]
  },
  {
   "cell_type": "markdown",
   "metadata": {},
   "source": [
    "# Conclusion\n",
    "LSTM works fine on Time series but one needs care so that things do not blow up.\n",
    "On a very suphiscated machine, this model could work impeccably well.\n",
    "ARIMA,SARIMA are also very powerful models but they have less representational power compared to lstm\n"
   ]
  },
  {
   "cell_type": "code",
   "execution_count": null,
   "metadata": {},
   "outputs": [],
   "source": []
  }
 ],
 "metadata": {
  "kernelspec": {
   "display_name": "Python 3",
   "language": "python",
   "name": "python3"
  }
 },
 "nbformat": 4,
 "nbformat_minor": 2
}
